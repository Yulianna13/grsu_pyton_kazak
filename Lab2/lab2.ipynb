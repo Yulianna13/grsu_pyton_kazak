{
 "cells": [
  {
   "cell_type": "markdown",
   "metadata": {},
   "source": [
    "# Лабораторная работа 2. Обзор модулей"
   ]
  },
  {
   "cell_type": "markdown",
   "metadata": {},
   "source": [
    "Модуль содержит расширение стандартных built-in контейнеров питона, таких как dict, list, set, and tuple\n",
    "\n",
    "Зачастую ими пользоваться удобней, чем стандартными"
   ]
  },
  {
   "cell_type": "code",
   "execution_count": 9,
   "metadata": {},
   "outputs": [],
   "source": [
    "from collections import defaultdict\n",
    "# Отнаследован от dict, а значит, имеет те же методы"
   ]
  },
  {
   "cell_type": "markdown",
   "metadata": {},
   "source": [
    "К примеру, нам нужно посчитать частоту чисел в массиве. Используя словарь, это можно сделать так:\n",
    "\n"
   ]
  },
  {
   "cell_type": "code",
   "execution_count": 6,
   "metadata": {},
   "outputs": [
    {
     "name": "stdout",
     "output_type": "stream",
     "text": [
      "{2: 3, 4: 1, 3: 1}\n"
     ]
    }
   ],
   "source": [
    "elems = [2, 2, 4, 2, 3]\n",
    "build_in_dict = dict()\n",
    "\n",
    "for elem in elems:\n",
    "    if elem in build_in_dict:\n",
    "        build_in_dict[elem] += 1\n",
    "    else:\n",
    "        build_in_dict[elem] = 1\n",
    "\n",
    "print(build_in_dict)"
   ]
  },
  {
   "cell_type": "markdown",
   "metadata": {},
   "source": [
    "Выглядит неаккуратно - 4 строчки занимают очень простую операцию - добавление элемента. Перепишем, используя defaultdict:"
   ]
  },
  {
   "cell_type": "code",
   "execution_count": 10,
   "metadata": {},
   "outputs": [
    {
     "name": "stdout",
     "output_type": "stream",
     "text": [
      "defaultdict(<class 'int'>, {2: 3, 4: 1, 3: 1})\n"
     ]
    }
   ],
   "source": [
    "dct = defaultdict(int)\n",
    "\n",
    "for elem in elems:\n",
    "    dct[elem] += 1\n",
    "\n",
    "print(dct)"
   ]
  },
  {
   "cell_type": "markdown",
   "metadata": {},
   "source": [
    "### Задание 1. Написать с помощью defaultdict функцию для подсчета количества различных labels для каждого цвета"
   ]
  },
  {
   "cell_type": "code",
   "execution_count": null,
   "metadata": {},
   "outputs": [],
   "source": [
    "def count(colors_labels):\n",
    "    elements = [('yellow', 3), ('green', 4), ('green', 4), ('red', 2), ('green', 7), ('yellow', 4),('green', 4)]\n",
    "    checker = collections.defaultdict(int)\n",
    "    repeat = collections.defaultdict(str)\n",
    "    for color, quantity in elements:\n",
    "        if checker[color]==0:\n",
    "            checker[color]+=1 \n",
    "            repeat[color] = [str(quantity)]\n",
    "        elif not str(quantity) in repeat[color]:\n",
    "                    checker[color]+=1  \n",
    "                    repeat[color].append(str(quantity))\n",
    "    return(checker)"
   ]
  },
  {
   "cell_type": "code",
   "execution_count": null,
   "metadata": {},
   "outputs": [],
   "source": [
    "# format: list of tuples: (color, label)\n",
    "import collections\n",
    "elements = [('yellow', 3), ('green', 4), ('green', 4), ('red', 2), ('green', 7), ('yellow', 4)]\n",
    "answer = {'yellow': 2, 'green': 2, 'red': 1}\n",
    "\n",
    "print(count(elements),\", \",count(elements) == answer)"
   ]
  },
  {
   "cell_type": "markdown",
   "metadata": {},
   "source": [
    "### Задание 2. Написать класс, с помощью которого можно создать словарь, который по умолчанию будет выдавать количество уже заведенных элементов до него"
   ]
  },
  {
   "cell_type": "code",
   "execution_count": null,
   "metadata": {},
   "outputs": [],
   "source": [
    "class StrangeClass:\n",
    "    def __init__(self):\n",
    "        self._safe_ = {}\n",
    "        self._count_ = 0\n",
    "    def calcul(self, x):\n",
    "        if x in self._safe_.keys():\n",
    "            return self._safe_.get(x)\n",
    "        else:\n",
    "            self._safe_[x] = self._count_\n",
    "            fin = self._count_\n",
    "            self._count_ += 1\n",
    "            return fin"
   ]
  },
  {
   "cell_type": "code",
   "execution_count": null,
   "metadata": {},
   "outputs": [],
   "source": [
    "dct = StrangeClass()\n",
    "elems = [9, 3, 1, 3, 4, 10]\n",
    "print(([dct.calcul(elem) for elem in elems]) == [0, 1, 2, 1, 3, 4])"
   ]
  },
  {
   "cell_type": "markdown",
   "metadata": {},
   "source": [
    "### Задание 3. С помощью deque написать функцию, выдающую последние n строк из файла"
   ]
  },
  {
   "cell_type": "code",
   "execution_count": 14,
   "metadata": {},
   "outputs": [],
   "source": [
    "from collections import deque\n",
    " \n",
    "def tail(filename, n):\n",
    "    try:\n",
    "        with open(filename) as f:\n",
    "            return deque(f, n)\n",
    "    except OSError:\n",
    "        print(\"not open: {}\".format(filename))\n",
    "        raise"
   ]
  },
  {
   "cell_type": "code",
   "execution_count": 19,
   "metadata": {},
   "outputs": [
    {
     "name": "stdout",
     "output_type": "stream",
     "text": [
      "True \n",
      "\n",
      "\n",
      " ['yerye\\n', 'wqwdq qe wq\\n', 'wdqwdq\\n', 'efwef\\n', 'f wefwe\\n', 'ytry\\n', 'ytry\\n', 'we r\\n', 'weqwe q\\n', 'terte']\n"
     ]
    }
   ],
   "source": [
    "# check with your file\n",
    "\n",
    "filename = 'zad3.txt'\n",
    "lines = ['yerye\\n','wqwdq qe wq\\n','wdqwdq\\n','efwef\\n','f wefwe\\n','ytry\\n','ytry\\n','we r\\n','weqwe q\\n','terte']\n",
    "n = 10\n",
    "print(tail(filename, n) == deque(lines),'\\n\\n\\n',lines)"
   ]
  },
  {
   "cell_type": "markdown",
   "metadata": {},
   "source": [
    "### Задание 4. Написать функцию, выводящую наименее встречаемые элементы с помощью Counter\n"
   ]
  },
  {
   "cell_type": "code",
   "execution_count": null,
   "metadata": {},
   "outputs": [],
   "source": [
    "def leastEncounteredItems(iterable_obj, n=3):\n",
    "    c = collections.Counter()\n",
    "    for elem in iterable_obj:\n",
    "        c[elem] += 1\n",
    "    s = []\n",
    "    for one, two in c.most_common()[:-(n+1):-1]:\n",
    "        s.append(one)\n",
    "    return s"
   ]
  },
  {
   "cell_type": "code",
   "execution_count": null,
   "metadata": {},
   "outputs": [],
   "source": [
    "import collections\n",
    "elements = [1,4,3,1,1,8,9,2,8,8,9,9]\n",
    "print(leastEncounteredItems(elements) == [2, 3, 4],', ',leastEncounteredItems(elements))"
   ]
  },
  {
   "cell_type": "markdown",
   "metadata": {},
   "source": [
    "### Задание 5. Написать класс LastUpdatedOrderedDict. Модификация относительно OrderedDict в том, чтобы при добавлении уже существующих элементов, перезаписывать их места в словаре\n"
   ]
  },
  {
   "cell_type": "code",
   "execution_count": 21,
   "metadata": {},
   "outputs": [],
   "source": [
    "from collections import OrderedDict\n",
    "\n",
    "class LastUpdatedOrderedDict(OrderedDict):   \n",
    "    def __setitem__(self, key, value):       \n",
    "            super().__setitem__(key, value)  \n",
    "            super().move_to_end(key)"
   ]
  },
  {
   "cell_type": "code",
   "execution_count": 22,
   "metadata": {},
   "outputs": [
    {
     "data": {
      "text/plain": [
       "True"
      ]
     },
     "execution_count": 22,
     "metadata": {},
     "output_type": "execute_result"
    }
   ],
   "source": [
    "lud = LastUpdatedOrderedDict()\n",
    "\n",
    "elems = ['a', 'b', 'c']\n",
    "\n",
    "for elem in elems:\n",
    "    lud[elem] = 1\n",
    "\n",
    "list(lud) == elems\n",
    "\n",
    "lud['a'] = 1\n",
    "\n",
    "list(lud) == ['b', 'c', 'a']"
   ]
  },
  {
   "cell_type": "markdown",
   "metadata": {},
   "source": [
    "### Задание 6. Полностью написать функцию, считывающую работников из csv файла. Использовать модуль csv\n",
    "\n"
   ]
  },
  {
   "cell_type": "code",
   "execution_count": 25,
   "metadata": {},
   "outputs": [
    {
     "name": "stdout",
     "output_type": "stream",
     "text": [
      "Oleg\n",
      "Andrey\n",
      "Pasha\n",
      "Dima\n"
     ]
    }
   ],
   "source": [
    "import csv\n",
    " \n",
    "def read(file_obj):\n",
    "    reader = csv.reader(file_obj)\n",
    "    for row in reader:\n",
    "        print(\" \".join(row))\n",
    " \n",
    "if __name__ == \"__main__\":\n",
    "    csv_path = \"dictionary.csv\"\n",
    "    with open(csv_path, \"r\") as f_obj:\n",
    "        read(f_obj)"
   ]
  },
  {
   "cell_type": "markdown",
   "metadata": {},
   "source": [
    "### Задание 7. Написать функцию, принимающую 2 списка и возвращающую декартово произведение (использовать itertools.product)\n",
    "\n"
   ]
  },
  {
   "cell_type": "code",
   "execution_count": 14,
   "metadata": {},
   "outputs": [],
   "source": [
    "def get_cartesian_product(a, b):\n",
    "    d = list(itertools.product(a,b))\n",
    "    return d\n"
   ]
  },
  {
   "cell_type": "code",
   "execution_count": 20,
   "metadata": {},
   "outputs": [
    {
     "data": {
      "text/plain": [
       "True"
      ]
     },
     "execution_count": 20,
     "metadata": {},
     "output_type": "execute_result"
    }
   ],
   "source": [
    "import itertools\n",
    "\n",
    "get_cartesian_product([1, 2], [3, 4]) == [(1, 3), (1, 4), (2, 3), (2, 4)]"
   ]
  },
  {
   "cell_type": "markdown",
   "metadata": {},
   "source": [
    "### Задание 8. Написать функцию, принимающую строку s и число n и возвращающую всевозможные перестановки из n символов в s строке в лексикографическом(!) порядке (использовать itertools.permutations)\n"
   ]
  },
  {
   "cell_type": "code",
   "execution_count": 19,
   "metadata": {},
   "outputs": [
    {
     "name": "stdout",
     "output_type": "stream",
     "text": [
      "True ,  ['ac', 'at', 'ca', 'ct', 'ta', 'tc']\n"
     ]
    }
   ],
   "source": [
    "def getPermutations(s, n):\n",
    "    r = []\n",
    "    for item in itertools.permutations(s,n):\n",
    "        r.append(''.join(item))\n",
    "    return sorted(r)\n",
    "\n",
    "print(getPermutations(\"cat\", 2) == [\"ac\", \"at\", \"ca\", \"ct\", \"ta\", \"tc\"],', ',getPermutations(\"cat\", 2))"
   ]
  },
  {
   "cell_type": "markdown",
   "metadata": {},
   "source": [
    "### Задание 9. Реализовать функцию get_combinations. Должна принимать строку s и число k и возвращать все возможные комбинации из символов в строке s с длинами <= k (использовать itertools.combinations)"
   ]
  },
  {
   "cell_type": "code",
   "execution_count": 18,
   "metadata": {},
   "outputs": [
    {
     "name": "stdout",
     "output_type": "stream",
     "text": [
      "True ,  ['a', 'c', 't', 'ac', 'at', 'ct']\n"
     ]
    }
   ],
   "source": [
    "def getCombinations(s, k):\n",
    "    r = []\n",
    "    i = 1\n",
    "    for i in range(1,k+1):\n",
    "        n = []\n",
    "        for item in itertools.combinations(s, i):\n",
    "            n.append(\"\".join(sorted(item)))\n",
    "        n = sorted(n)\n",
    "        r += (n)\n",
    "    return r\n",
    "\n",
    "print(getCombinations(\"cat\", 2) == [\"a\", \"c\", \"t\", \"ac\", \"at\", \"ct\"],', ',getCombinations(\"cat\", 2))"
   ]
  },
  {
   "cell_type": "markdown",
   "metadata": {},
   "source": [
    "### Задание 10. Функция должна принимать строку s и число k и возвращать все возможные комбинации из символов в строке s с длинами = k с повторениями (использовать itertools.combinations_with_replacement)"
   ]
  },
  {
   "cell_type": "code",
   "execution_count": null,
   "metadata": {},
   "outputs": [],
   "source": [
    "def getCombinationsWithR(s, n):\n",
    "    r = []\n",
    "    for item in itertools.combinations_with_replacement(s,n):\n",
    "        r.append(''.join(sorted(item)))\n",
    "    return sorted(r)\n",
    "\n",
    "print(getCombinationsWithR(\"cat\", 2) == [\"aa\", \"ac\", \"at\", \"cc\", \"ct\", \"tt\"],', ',getCombinationsWithR(\"cat\", 2))"
   ]
  },
  {
   "cell_type": "markdown",
   "metadata": {},
   "source": [
    "### Задание 11. Написать функцию, которая подсчитывает количество подряд идующих символов в строке (использовать itertools.groupby)"
   ]
  },
  {
   "cell_type": "code",
   "execution_count": null,
   "metadata": {},
   "outputs": [],
   "source": [
    "def compressString(s):\n",
    "    a = []\n",
    "    b = []\n",
    "    for key,group in itertools.groupby(s):\n",
    "        a.append(list(group))\n",
    "    for i in a:\n",
    "        b.append((i.count(i[0]), int(i[0])))\n",
    "    return b\n",
    "    \n",
    "\n",
    "print(compressString('1222311') == [(1, 1), (3, 2), (1, 3), (2, 1)],', ',compressString('1222311'))"
   ]
  },
  {
   "cell_type": "markdown",
   "metadata": {},
   "source": [
    "### Задание 12. В функцию передается список списков. Нужно вернуть максимум, который достигает выражение $(a_1^2 + a_2^2 + ... + a_n^2) % m $. Где a_i --- некоторый элемент из i-ого списка (использовать функцию из itertools)"
   ]
  },
  {
   "cell_type": "code",
   "execution_count": null,
   "metadata": {},
   "outputs": [],
   "source": [
    "def fun(a,b,c):\n",
    "    #b = 0\n",
    "    #for i in range(a):\n",
    "    #  b += a[i]**2\n",
    "    return (a**2+b**2+c**2)\n",
    "\n",
    "def maximiz(lists):\n",
    "    a = []\n",
    "    for i in itertools.product(lists[0],lists[1],lists[2]):    \n",
    "        a.append(i)\n",
    "    b = []\n",
    "    for i in itertools.starmap(fun,a):\n",
    "        b.append(i)\n",
    "    return (max(b))\n",
    "    #for item in itertools.starmap(fun, a):\n",
    "    #    return item\n",
    "    \n",
    "    \n",
    "\n",
    "lists = [ [5, 4], [7, 8, 9], [5, 7, 8, 9, 10]]\n",
    "\n",
    "#maximize(lists, m=1000) == 206\n",
    "print(maximiz(lists) == 206, '\\n', maximiz(lists))"
   ]
  },
  {
   "cell_type": "markdown",
   "metadata": {},
   "source": [
    "### Задание 13. Напишите не самую лучшую версию вычисления чисел Фибоначчи (через рекурсию), только для демонстрации силы lru_cache."
   ]
  },
  {
   "cell_type": "code",
   "execution_count": null,
   "metadata": {},
   "outputs": [],
   "source": [
    "import functools\n",
    "def fib(n,fibN):\n",
    "    fibN.append(fibN[-1]+fibN[-2])\n",
    "    if len(fibN)<n:\n",
    "        fib(n,fibN)\n",
    "    else:\n",
    "        print(fibN)\n",
    "\n",
    "def fibB(n):\n",
    "    fibN = [0, 1]\n",
    "    if n<0:\n",
    "        print(\"ERROR\")\n",
    "    elif n == 0 or n == 1:\n",
    "        print(0)\n",
    "    else:\n",
    "        fib(n,fibN) \n",
    "            \n",
    "n = int(input())\n",
    "fibB(n)\n"
   ]
  },
  {
   "cell_type": "markdown",
   "metadata": {},
   "source": [
    "А теперь запустите ее с достаточно большим n с декоратором и без\n",
    "@functools.lru_cache(maxsize=128, typed=False)\n"
   ]
  },
  {
   "cell_type": "code",
   "execution_count": null,
   "metadata": {},
   "outputs": [],
   "source": [
    "def fib(n,fibN):\n",
    "    fibN.append(fibN[-1]+fibN[-2])\n",
    "    if len(fibN)<n:\n",
    "        fib(n,fibN)\n",
    "    else:\n",
    "        print(fibN)\n",
    "\n",
    "def fibB(n):\n",
    "    fibN = [0, 1]\n",
    "    if n<0:\n",
    "        print(\"ERROR\")\n",
    "    elif n == 0 or n == 1:\n",
    "        print(0)\n",
    "    else:\n",
    "        fib(n,fibN) \n",
    "            \n",
    "n = int(input())\n",
    "fibB(n)"
   ]
  },
  {
   "cell_type": "code",
   "execution_count": null,
   "metadata": {},
   "outputs": [],
   "source": []
  },
  {
   "cell_type": "markdown",
   "metadata": {},
   "source": [
    "Сделайте замер времени выполнения функций. Используйте time. "
   ]
  },
  {
   "cell_type": "code",
   "execution_count": null,
   "metadata": {},
   "outputs": [],
   "source": [
    "start_time = time.time()\n",
    "\n",
    "def fib(n,fibN):\n",
    "    fibN.append(fibN[-1]+fibN[-2])\n",
    "    if len(fibN)<n:\n",
    "        fib(n,fibN)\n",
    "    else:\n",
    "        print(fibN)\n",
    "\n",
    "def fibB(n):\n",
    "    fibN = [0, 1]\n",
    "    if n<0:\n",
    "        print(\"ERROR\")\n",
    "    elif n == 0 or n == 1:\n",
    "        print(0)\n",
    "    else:\n",
    "        fib(n,fibN) \n",
    "            \n",
    "n = int(input())\n",
    "fibB(n)\n",
    "\n",
    "print(\"%s sec\" % (time.time() - start_time))"
   ]
  }
 ],
 "metadata": {
  "kernelspec": {
   "display_name": "Python 3",
   "language": "python",
   "name": "python3"
  },
  "language_info": {
   "codemirror_mode": {
    "name": "ipython",
    "version": 3
   },
   "file_extension": ".py",
   "mimetype": "text/x-python",
   "name": "python",
   "nbconvert_exporter": "python",
   "pygments_lexer": "ipython3",
   "version": "3.8.2"
  }
 },
 "nbformat": 4,
 "nbformat_minor": 2
}
