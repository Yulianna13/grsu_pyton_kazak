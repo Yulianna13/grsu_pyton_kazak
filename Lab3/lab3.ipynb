{
 "cells": [
  {
   "cell_type": "markdown",
   "metadata": {},
   "source": [
    "# Лабораторная работа 3. Объектно-ориентированное программирование. Часть 1."
   ]
  },
  {
   "cell_type": "markdown",
   "metadata": {},
   "source": [
    "Распространённым примером для демонстрации деталей реализации пользовательского класса является разработка класса, воплощающего Fraction. Мы уже видели, что Python предоставляет в наше пользование несколько числовых классов. Однако, бывают моменты, когда более подходящим является создание объекта данных лишь “выглядящего как” дробь.\n",
    "\n",
    "Дробь (например, $\\frac{3}{5}$) состоит из двух частей. Верхнее значение, называемое числитель, может быть любым целым числом. Нижнее значение (знаменатель) - любым целым, большим нуля (отрицательные дроби имеют отрицательный числитель). Также для любой дроби можно создать приближение с плавающей запятой. В этом случае мы хотели бы представлять дробь как точное значение.\n",
    "\n",
    "Операции для типа Fraction будут позволять его объектам данных вести себя подобно любым другим числовым значениям. Мы должны быть готовы складывать, вычитать, умножать и делить дроби. Также необходима возможность показывать дроби в их стандартной “слэш”-форме (например, $\\frac{3}{5}$). Все методы дробей должны возвращать результат в своей сокращённой форме таким образом, чтобы, вне зависимости от вида вычислений, в конце мы всегда имели наиболее общепринятую форму.\n",
    "\n",
    "Запишите класс Fraction. Принимайте через конструктор числитель и знаменатель. "
   ]
  },
  {
   "cell_type": "code",
   "execution_count": null,
   "metadata": {
    "collapsed": true
   },
   "outputs": [],
   "source": [
    "class Fraction:\n",
    "    \n",
    "    def __init__(self, numerator, denominator):\n",
    "        self.numerator = numerator\n",
    "        self.denominator = denominator\n",
    "        \n",
    "    def __str__(self):\n",
    "        return str(self.numerator) + '/' + str(self.denominator)\n",
    "    \n",
    "    def show(self):\n",
    "        print(self)\n",
    "    \n",
    "    def __add__(self, other):\n",
    "        return Fraction(self.numerator * other.denominator + self.denominator * other.numerator, self.denominator * other.denominator)\n",
    "    \n",
    "    def reduction(self):\n",
    "        a = self.numerator\n",
    "        b = self.denominator\n",
    "        while a != 0 and b != 0:\n",
    "            if a > b:\n",
    "                a %= b\n",
    "            else:\n",
    "                b %= a\n",
    "        nod = a + b\n",
    "        self.numerator/=nod;\n",
    "        self.denominator/=nod;\n",
    "    \n",
    "    def __eq__(self,other):\n",
    "        self.reduction()\n",
    "        other.reduction()\n",
    "        return (self.numerator==other.numerator and self.denominator==other.denominator)\n",
    "            \n",
    "    def __sub__(self, other):\n",
    "        return Fraction(self.numerator * other.denominator - self.denominator * other.numerator, self.denominator * other.denominator)\n",
    "    \n",
    "    def __mul__(self, other):\n",
    "        return Fraction(self.numerator * other.numerator, self.denominator * other.denominator)\n",
    "   \n",
    "    def __truediv__(self, other):\n",
    "        return Fraction(self.numerator * other.denominator, self.denominator * other.numerator)\n",
    "    \n",
    "    def __gt__(self, other):\n",
    "        return (self.numerator/self.denominator>other.numerator/other.denominator);\n",
    "    \n",
    "    def __lt__(self, other):\n",
    "        return not (self>other)"
   ]
  },
  {
   "cell_type": "markdown",
   "metadata": {},
   "source": [
    "Создай сущность класса Fraction. "
   ]
  },
  {
   "cell_type": "code",
   "execution_count": null,
   "metadata": {
    "collapsed": true
   },
   "outputs": [],
   "source": [
    "fraction = Fraction(3,5)"
   ]
  },
  {
   "cell_type": "markdown",
   "metadata": {},
   "source": [
    "Вызовите print от сущности. "
   ]
  },
  {
   "cell_type": "code",
   "execution_count": null,
   "metadata": {
    "collapsed": true
   },
   "outputs": [],
   "source": [
    "print(fraction)"
   ]
  },
  {
   "cell_type": "markdown",
   "metadata": {},
   "source": [
    " Функция print требует, чтобы объект конвертировал самого себя в строку, которая будет записана на выходе."
   ]
  },
  {
   "cell_type": "code",
   "execution_count": null,
   "metadata": {
    "collapsed": true
   },
   "outputs": [],
   "source": [
    "print(fraction)"
   ]
  },
  {
   "cell_type": "markdown",
   "metadata": {},
   "source": [
    "Определите метод под названием show, который позволит объекту Fraction печать самого себя как строку. Продемострируйете. "
   ]
  },
  {
   "cell_type": "code",
   "execution_count": null,
   "metadata": {
    "collapsed": true
   },
   "outputs": [],
   "source": [
    "fraction.show()"
   ]
  },
  {
   "cell_type": "markdown",
   "metadata": {},
   "source": [
    "Теперь тоже самое только стандартными методами. Продемострируйте, что можно дробь выводить через print."
   ]
  },
  {
   "cell_type": "code",
   "execution_count": null,
   "metadata": {
    "collapsed": true
   },
   "outputs": [],
   "source": [
    "print(str(fraction.numerator) + '/' + str(fraction.denominator))"
   ]
  },
  {
   "cell_type": "markdown",
   "metadata": {},
   "source": [
    "Мы можем перегрузить множество других методов для нового класса Fraction. Одними из наиболее важных из них являются основные арифметические операции. Создайте два объекта Fraction, а затем сложить их вместе, используя стандартную запись “+”"
   ]
  },
  {
   "cell_type": "code",
   "execution_count": null,
   "metadata": {
    "collapsed": true
   },
   "outputs": [],
   "source": [
    "fraction_one = Fraction(1,4)\n",
    "fraction_two = Fraction(4,13)\n",
    "print(fraction_one + fraction_two)"
   ]
  },
  {
   "cell_type": "markdown",
   "metadata": {},
   "source": [
    "Если вы внимательнее посмотрите на сообщение об ошибке, то заметите - загвоздка в том, что оператор “+” не понимает операндов Fraction. Перегрузите сложение."
   ]
  },
  {
   "cell_type": "code",
   "execution_count": null,
   "metadata": {
    "collapsed": true
   },
   "outputs": [],
   "source": [
    "print(fraction_one + fraction_two)"
   ]
  },
  {
   "cell_type": "markdown",
   "metadata": {},
   "source": [
    "Метод сложения работает, как мы того и хотели, но одну вещь можно было бы улучшить. Дробь не сокращается. Реализуйте метод для сокращения дроби. "
   ]
  },
  {
   "cell_type": "code",
   "execution_count": null,
   "metadata": {
    "collapsed": true
   },
   "outputs": [],
   "source": [
    "fraction = Fraction(15,60)\n",
    "fraction.reduction()\n",
    "print(fraction)"
   ]
  },
  {
   "cell_type": "markdown",
   "metadata": {},
   "source": [
    "Предположим, что у нас есть два объекта Fraction f1 и f2. f1 == f2 будет истиной, если они ссылаются на один и тот же объект. Два разных объекта с одинаковыми числителями и знаменателями в этой реализации равны не будут. Это называется поверхностным равенством. Создайте глубокое равенство - по одинаковому значению, а не по одинаковой ссылке - перегрузив метод __eq__. Это ещё один стандартный метод, доступный в любом классе. Он сравнивает два объекта и возвращает True, если их значения равны, или False в противном случае."
   ]
  },
  {
   "cell_type": "code",
   "execution_count": null,
   "metadata": {
    "collapsed": true
   },
   "outputs": [],
   "source": [
    "fraction_one = Fraction(3,8)\n",
    "fraction_two = Fraction(6,16)\n",
    "print(fraction_one == fraction_two)"
   ]
  },
  {
   "cell_type": "markdown",
   "metadata": {},
   "source": [
    "Напишите реализацию операций *, / и -. Продемонстрируйте. "
   ]
  },
  {
   "cell_type": "code",
   "execution_count": null,
   "metadata": {
    "collapsed": true
   },
   "outputs": [],
   "source": [
    "fraction_one = Fraction(1,4)\n",
    "fraction_two = Fraction(4,13)\n",
    "print(fraction_one*fraction_two)\n",
    "print(fraction_one/fraction_two)\n",
    "print(fraction_one-fraction_two)"
   ]
  },
  {
   "cell_type": "markdown",
   "metadata": {},
   "source": [
    "Также реализуйте операторы сравнения > и <."
   ]
  },
  {
   "cell_type": "code",
   "execution_count": null,
   "metadata": {
    "collapsed": true
   },
   "outputs": [],
   "source": [
    "fraction_one = Fraction(1,2)\n",
    "fraction_two = Fraction(3,4)\n",
    "print(fraction_one > fraction_two)\n",
    "print(fraction_one < fraction_two)"
   ]
  },
  {
   "cell_type": "markdown",
   "metadata": {},
   "source": [
    "# ЧАСТЬ 2. Создание базовых классов"
   ]
  },
  {
   "cell_type": "markdown",
   "metadata": {},
   "source": [
    "Вам на вход приходит последовательность целых чисел. Вам надо обрабатывать ее следующим образом: выводить на экран сумму первых пяти чисел этой последовательности, затем следующих 5 итд\n",
    "\n",
    "Но последовательность не дается вам сразу целиком. С течением времени к вам поступают её последовательные части. Например, сначала первые три элемента, потом следующие шесть, потом следующие два и т. д.\n",
    "\n",
    "Реализуйте класс Buffer, который будет накапливать в себе элементы последовательности и выводить сумму пятерок последовательных элементов по мере их накопления.\n",
    "\n",
    "Одним из требований к классу является то, что он не должен хранить в себе больше элементов, чем ему действительно необходимо, т. е. он не должен хранить элементы, которые уже вошли в пятерку, для которой была выведена сумма.\n",
    "\n",
    "Класс должен иметь следующий вид"
   ]
  },
  {
   "cell_type": "code",
   "execution_count": 5,
   "metadata": {},
   "outputs": [],
   "source": [
    "class Buffer:\n",
    "    \n",
    "    def __init__(self):\n",
    "        self.arr = []\n",
    "        \n",
    "    def add(self, *a):\n",
    "        while len(a) > 5:\n",
    "            self.arr += a[:5]\n",
    "            a = a[5:]\n",
    "            self.get_current_part()\n",
    "            self.arr = self.arr[5:]\n",
    "        if len(a) + len(self.arr) < 5:\n",
    "            self.arr += a\n",
    "        else:\n",
    "            self.arr += a\n",
    "            b = self.arr[5:]\n",
    "            self.arr = self.arr[:5]\n",
    "            self.get_current_part()\n",
    "            self.arr = b\n",
    "            \n",
    "    def get_current_part(self):\n",
    "        print(self.arr)\n",
    "        "
   ]
  },
  {
   "cell_type": "code",
   "execution_count": 6,
   "metadata": {},
   "outputs": [
    {
     "name": "stdout",
     "output_type": "stream",
     "text": [
      "[1, 2, 3, 4, 5]\n",
      "[6, 7, 8, 9, 10]\n",
      "[11, 12, 13, 14, 15]\n",
      "[16, 17, 18, 19, 20]\n",
      "[21, 22, 23, 24, 25]\n",
      "[]\n"
     ]
    }
   ],
   "source": [
    "buffer = Buffer();\n",
    "buffer.add(1,2,3,4,5,6)\n",
    "buffer.add(7,8,9)\n",
    "buffer.add(10,11,12)\n",
    "buffer.add(13,14,15)\n",
    "buffer.add(16,17,18,19,20,21,22,23)\n",
    "buffer.add(24,25)\n",
    "buffer.get_current_part()"
   ]
  },
  {
   "cell_type": "markdown",
   "metadata": {},
   "source": [
    "Создайте правильные цепочки наследования классов для: Животное, собака, щенок, самолет, компьютер, имеющее лапы, летающее, орел, белка-летяга, разумное, человек, медуза, одуванчик.\n",
    "В эти классы добавьте конструкторы, а также методы для следующих действий (где надо): полаять, родить, сложить два числа, ужалить, подумать, взлететь, пустить корни, поесть, взять, а также следующие поля: возраст, латинское название (или модель). Прокомментируйте вашу логику. Можете использовать русские слова. "
   ]
  },
  {
   "cell_type": "code",
   "execution_count": 7,
   "metadata": {},
   "outputs": [],
   "source": [
    "    def __init__(self, age, a_type):\n",
    "        self.age = age\n",
    "        self.a_type = a_type\n",
    "        \n",
    "    def give_birth(self):\n",
    "        print('give birth')\n",
    "    \n",
    "    def eat(self):\n",
    "        print('eat')\n",
    "\n",
    "class Have_lap(Animal):\n",
    "    def __init__(self, age, a_type):\n",
    "        super().__init__(age, a_type)\n",
    "\n",
    "class Flying(Animal):\n",
    "    def __init__(self, age, a_type):\n",
    "        super().__init__(age, a_type)\n",
    "\n",
    "class Reasonable(Animal):\n",
    "    def __init__(self, age, a_type):\n",
    "        super().__init__(age, a_type)\n",
    "        \n",
    "    def to_think(self):\n",
    "        print('think')\n",
    "        \n",
    "class Human(Reasonable):\n",
    "    def __init__(self, age, a_type, name):\n",
    "        super().__init__(age, a_type)\n",
    "        self.name = name\n",
    "    def take(self):\n",
    "        print('take')\n",
    "    \n",
    "    def give_birth(self):\n",
    "        print(name + ' was born')\n",
    "        \n",
    "class Eagle(Flying):\n",
    "    def __init__(self, age, a_type, name):\n",
    "        super().__init__(age, a_type)\n",
    "        self.name = name\n",
    "    def take_off(self):\n",
    "        print('Flew')\n",
    "    \n",
    "    def give_birth(self):\n",
    "        print(name + ' was born')\n",
    "        \n",
    "class Flying_squirrel(Flying):\n",
    "    def __init__(self, age, a_type, name):\n",
    "        super().__init__(age, a_type)\n",
    "        self.name = name\n",
    "    def give_birth(self):\n",
    "        print(name + ' was born')\n",
    "        \n",
    "class Dog(Have_lap):\n",
    "    def __init__(self, age, a_type, name):\n",
    "        super().__init__(age, a_type)\n",
    "        self.name = name\n",
    "        \n",
    "    def bark(self):\n",
    "        print('Woof')\n",
    "        \n",
    "    def give_birth(self):\n",
    "        print(name + ' was born')\n",
    "        \n",
    "class Puppy(Dog):\n",
    "    def __init__(self, age, a_type, name):\n",
    "        super().__init__(age, a_type)\n",
    "        self.name = name\n",
    "        \n",
    "class Jellyfish(Animal):\n",
    "    def __init__(self, age, a_type, name):\n",
    "        super().__init__(age, a_type)\n",
    "        self.name = name\n",
    "    def sting(self):\n",
    "        print('Stung')\n",
    "        \n",
    "class Plant:\n",
    "    def __init__(self, age, a_type):\n",
    "        self.age = age\n",
    "        self.a_type = a_type\n",
    "    def start_roots(self):\n",
    "        print('Took root')\n",
    "        \n",
    "class Dandelion(Plant):\n",
    "     def __init__(self, age, a_type, name):\n",
    "        super().__init__(age, a_type)\n",
    "        self.name = name\n",
    "        \n",
    "class Equipment:\n",
    "    def __init__(self, age, a_type):\n",
    "        self.age = age\n",
    "        self.a_type = a_type\n",
    "        \n",
    "class Plane(Equipment):\n",
    "    def __init__(self, age, a_type, name):\n",
    "        super().__init__(age, a_type)\n",
    "        self.name = name\n",
    "        \n",
    "    def take_off(self):\n",
    "        print('Flew')\n",
    "        \n",
    "class Computer(Equipment):\n",
    "    def __init__(self, age, a_type, name):\n",
    "        super().__init__(age, a_type)\n",
    "        self.name = name\n",
    "    def add_numbers(self, a, b):\n",
    "        print('Folded up:')\n",
    "        print(a + b)"
   ]
  },
  {
   "cell_type": "code",
   "execution_count": null,
   "metadata": {},
   "outputs": [],
   "source": []
  }
 ],
 "metadata": {
  "kernelspec": {
   "display_name": "Python 3",
   "language": "python",
   "name": "python3"
  },
  "language_info": {
   "codemirror_mode": {
    "name": "ipython",
    "version": 3
   },
   "file_extension": ".py",
   "mimetype": "text/x-python",
   "name": "python",
   "nbconvert_exporter": "python",
   "pygments_lexer": "ipython3",
   "version": "3.8.2"
  }
 },
 "nbformat": 4,
 "nbformat_minor": 1
}
